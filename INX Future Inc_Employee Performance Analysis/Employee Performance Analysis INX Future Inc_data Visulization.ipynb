{
 "cells": [
  {
   "cell_type": "markdown",
   "metadata": {},
   "source": [
    "## PERFORMANCE OF EMPLOYEE\n",
    "### importing libraires"
   ]
  },
  {
   "cell_type": "code",
   "execution_count": 1,
   "metadata": {},
   "outputs": [],
   "source": [
    "import numpy as np\n",
    "import pandas as pd\n",
    "import seaborn as sns\n",
    "import matplotlib.pyplot as plt\n",
    "from matplotlib import rcParams"
   ]
  },
  {
   "cell_type": "code",
   "execution_count": 2,
   "metadata": {},
   "outputs": [],
   "source": [
    "rcParams['figure.figsize'] = 13,9"
   ]
  },
  {
   "cell_type": "markdown",
   "metadata": {},
   "source": [
    "### importing libraires"
   ]
  },
  {
   "cell_type": "code",
   "execution_count": 3,
   "metadata": {},
   "outputs": [],
   "source": [
    "df=pd.read_excel(\"INX_Future_Inc_Employee_Performance_CDS_Project2_Data_V1.8 (2).xls\")"
   ]
  },
  {
   "cell_type": "code",
   "execution_count": 4,
   "metadata": {
    "scrolled": true
   },
   "outputs": [
    {
     "data": {
      "text/html": [
       "<div>\n",
       "<style scoped>\n",
       "    .dataframe tbody tr th:only-of-type {\n",
       "        vertical-align: middle;\n",
       "    }\n",
       "\n",
       "    .dataframe tbody tr th {\n",
       "        vertical-align: top;\n",
       "    }\n",
       "\n",
       "    .dataframe thead th {\n",
       "        text-align: right;\n",
       "    }\n",
       "</style>\n",
       "<table border=\"1\" class=\"dataframe\">\n",
       "  <thead>\n",
       "    <tr style=\"text-align: right;\">\n",
       "      <th></th>\n",
       "      <th>EmpDepartment</th>\n",
       "      <th>PerformanceRating</th>\n",
       "    </tr>\n",
       "  </thead>\n",
       "  <tbody>\n",
       "    <tr>\n",
       "      <th>0</th>\n",
       "      <td>Sales</td>\n",
       "      <td>3</td>\n",
       "    </tr>\n",
       "    <tr>\n",
       "      <th>1</th>\n",
       "      <td>Sales</td>\n",
       "      <td>3</td>\n",
       "    </tr>\n",
       "    <tr>\n",
       "      <th>2</th>\n",
       "      <td>Sales</td>\n",
       "      <td>4</td>\n",
       "    </tr>\n",
       "    <tr>\n",
       "      <th>3</th>\n",
       "      <td>Human Resources</td>\n",
       "      <td>3</td>\n",
       "    </tr>\n",
       "    <tr>\n",
       "      <th>4</th>\n",
       "      <td>Sales</td>\n",
       "      <td>3</td>\n",
       "    </tr>\n",
       "  </tbody>\n",
       "</table>\n",
       "</div>"
      ],
      "text/plain": [
       "     EmpDepartment  PerformanceRating\n",
       "0            Sales                  3\n",
       "1            Sales                  3\n",
       "2            Sales                  4\n",
       "3  Human Resources                  3\n",
       "4            Sales                  3"
      ]
     },
     "execution_count": 4,
     "metadata": {},
     "output_type": "execute_result"
    }
   ],
   "source": [
    "Dif_depart=df.iloc[:,[5,-1]]\n",
    "Dif_depart.head()"
   ]
  },
  {
   "cell_type": "markdown",
   "metadata": {},
   "source": [
    "### Data visulization "
   ]
  },
  {
   "cell_type": "code",
   "execution_count": 5,
   "metadata": {
    "scrolled": true
   },
   "outputs": [
    {
     "data": {
      "text/plain": [
       "<matplotlib.axes._subplots.AxesSubplot at 0x7fe6b4d0ccf8>"
      ]
     },
     "execution_count": 5,
     "metadata": {},
     "output_type": "execute_result"
    },
    {
     "data": {
      "image/png": "[encoded data removed]",
      "text/plain": [
       "<Figure size 936x648 with 1 Axes>"
      ]
     },
     "metadata": {
      "needs_background": "light"
     },
     "output_type": "display_data"
    }
   ],
   "source": [
    "sns.countplot(data=Dif_depart, x=Dif_depart.PerformanceRating)"
   ]
  },
  {
   "cell_type": "code",
   "execution_count": 6,
   "metadata": {
    "scrolled": true
   },
   "outputs": [
    {
     "data": {
      "image/png": "[encoded data removed]",
      "text/plain": [
       "<Figure size 936x648 with 1 Axes>"
      ]
     },
     "metadata": {
      "needs_background": "light"
     },
     "output_type": "display_data"
    }
   ],
   "source": [
    "a=pd.crosstab(df.EmpDepartment, df.PerformanceRating)\n",
    "a.plot(kind='bar',title=\"Department_vs_Performance\")\n",
    "\n",
    "plt.savefig(\"Department_vs_Performance.png\")"
   ]
  },
  {
   "cell_type": "code",
   "execution_count": 7,
   "metadata": {},
   "outputs": [],
   "source": [
    "#updated_df=df.drop(\"PerformanceRating\",axis=1)\n",
    "updated_df=df\n",
    "f=updated_df.corr()"
   ]
  },
  {
   "cell_type": "code",
   "execution_count": 8,
   "metadata": {
    "scrolled": true
   },
   "outputs": [
    {
     "data": {
      "text/html": [
       "<div>\n",
       "<style scoped>\n",
       "    .dataframe tbody tr th:only-of-type {\n",
       "        vertical-align: middle;\n",
       "    }\n",
       "\n",
       "    .dataframe tbody tr th {\n",
       "        vertical-align: top;\n",
       "    }\n",
       "\n",
       "    .dataframe thead th {\n",
       "        text-align: right;\n",
       "    }\n",
       "</style>\n",
       "<table border=\"1\" class=\"dataframe\">\n",
       "  <thead>\n",
       "    <tr style=\"text-align: right;\">\n",
       "      <th></th>\n",
       "      <th>Age</th>\n",
       "      <th>DistanceFromHome</th>\n",
       "      <th>EmpEducationLevel</th>\n",
       "      <th>EmpEnvironmentSatisfaction</th>\n",
       "      <th>EmpHourlyRate</th>\n",
       "      <th>EmpJobInvolvement</th>\n",
       "      <th>EmpJobLevel</th>\n",
       "      <th>EmpJobSatisfaction</th>\n",
       "      <th>NumCompaniesWorked</th>\n",
       "      <th>EmpLastSalaryHikePercent</th>\n",
       "      <th>EmpRelationshipSatisfaction</th>\n",
       "      <th>TotalWorkExperienceInYears</th>\n",
       "      <th>TrainingTimesLastYear</th>\n",
       "      <th>EmpWorkLifeBalance</th>\n",
       "      <th>ExperienceYearsAtThisCompany</th>\n",
       "      <th>ExperienceYearsInCurrentRole</th>\n",
       "      <th>YearsSinceLastPromotion</th>\n",
       "      <th>YearsWithCurrManager</th>\n",
       "      <th>PerformanceRating</th>\n",
       "    </tr>\n",
       "  </thead>\n",
       "  <tbody>\n",
       "    <tr>\n",
       "      <th>PerformanceRating</th>\n",
       "      <td>-0.040164</td>\n",
       "      <td>-0.046142</td>\n",
       "      <td>0.020529</td>\n",
       "      <td>0.395561</td>\n",
       "      <td>-0.043116</td>\n",
       "      <td>-0.010539</td>\n",
       "      <td>-0.076632</td>\n",
       "      <td>0.000606</td>\n",
       "      <td>0.020980</td>\n",
       "      <td>0.333722</td>\n",
       "      <td>-0.019502</td>\n",
       "      <td>-0.068141</td>\n",
       "      <td>-0.005443</td>\n",
       "      <td>0.124429</td>\n",
       "      <td>-0.111645</td>\n",
       "      <td>-0.147638</td>\n",
       "      <td>-0.167629</td>\n",
       "      <td>-0.122313</td>\n",
       "      <td>1.000000</td>\n",
       "    </tr>\n",
       "    <tr>\n",
       "      <th>EmpEnvironmentSatisfaction</th>\n",
       "      <td>0.013814</td>\n",
       "      <td>-0.017719</td>\n",
       "      <td>-0.037103</td>\n",
       "      <td>1.000000</td>\n",
       "      <td>-0.049501</td>\n",
       "      <td>0.004865</td>\n",
       "      <td>-0.008272</td>\n",
       "      <td>-0.004319</td>\n",
       "      <td>0.017270</td>\n",
       "      <td>-0.047271</td>\n",
       "      <td>-0.010504</td>\n",
       "      <td>-0.012894</td>\n",
       "      <td>0.001192</td>\n",
       "      <td>-0.000262</td>\n",
       "      <td>-0.000561</td>\n",
       "      <td>0.025491</td>\n",
       "      <td>0.010732</td>\n",
       "      <td>-0.011702</td>\n",
       "      <td>0.395561</td>\n",
       "    </tr>\n",
       "    <tr>\n",
       "      <th>EmpLastSalaryHikePercent</th>\n",
       "      <td>-0.006105</td>\n",
       "      <td>0.044974</td>\n",
       "      <td>0.002358</td>\n",
       "      <td>-0.047271</td>\n",
       "      <td>-0.015934</td>\n",
       "      <td>-0.001742</td>\n",
       "      <td>-0.020975</td>\n",
       "      <td>0.031847</td>\n",
       "      <td>-0.011788</td>\n",
       "      <td>1.000000</td>\n",
       "      <td>-0.042892</td>\n",
       "      <td>-0.005933</td>\n",
       "      <td>-0.013439</td>\n",
       "      <td>-0.017001</td>\n",
       "      <td>-0.019830</td>\n",
       "      <td>-0.004957</td>\n",
       "      <td>-0.015911</td>\n",
       "      <td>-0.007666</td>\n",
       "      <td>0.333722</td>\n",
       "    </tr>\n",
       "    <tr>\n",
       "      <th>EmpWorkLifeBalance</th>\n",
       "      <td>-0.019563</td>\n",
       "      <td>-0.044788</td>\n",
       "      <td>0.010276</td>\n",
       "      <td>-0.000262</td>\n",
       "      <td>0.016189</td>\n",
       "      <td>-0.014129</td>\n",
       "      <td>0.049218</td>\n",
       "      <td>-0.018548</td>\n",
       "      <td>0.002489</td>\n",
       "      <td>-0.017001</td>\n",
       "      <td>-0.004906</td>\n",
       "      <td>0.015495</td>\n",
       "      <td>0.037048</td>\n",
       "      <td>1.000000</td>\n",
       "      <td>0.023479</td>\n",
       "      <td>0.045719</td>\n",
       "      <td>0.015773</td>\n",
       "      <td>0.010518</td>\n",
       "      <td>0.124429</td>\n",
       "    </tr>\n",
       "  </tbody>\n",
       "</table>\n",
       "</div>"
      ],
      "text/plain": [
       "                                 Age  DistanceFromHome  EmpEducationLevel  \\\n",
       "PerformanceRating          -0.040164         -0.046142           0.020529   \n",
       "EmpEnvironmentSatisfaction  0.013814         -0.017719          -0.037103   \n",
       "EmpLastSalaryHikePercent   -0.006105          0.044974           0.002358   \n",
       "EmpWorkLifeBalance         -0.019563         -0.044788           0.010276   \n",
       "\n",
       "                            EmpEnvironmentSatisfaction  EmpHourlyRate  \\\n",
       "PerformanceRating                             0.395561      -0.043116   \n",
       "EmpEnvironmentSatisfaction                    1.000000      -0.049501   \n",
       "EmpLastSalaryHikePercent                     -0.047271      -0.015934   \n",
       "EmpWorkLifeBalance                           -0.000262       0.016189   \n",
       "\n",
       "                            EmpJobInvolvement  EmpJobLevel  \\\n",
       "PerformanceRating                   -0.010539    -0.076632   \n",
       "EmpEnvironmentSatisfaction           0.004865    -0.008272   \n",
       "EmpLastSalaryHikePercent            -0.001742    -0.020975   \n",
       "EmpWorkLifeBalance                  -0.014129     0.049218   \n",
       "\n",
       "                            EmpJobSatisfaction  NumCompaniesWorked  \\\n",
       "PerformanceRating                     0.000606            0.020980   \n",
       "EmpEnvironmentSatisfaction           -0.004319            0.017270   \n",
       "EmpLastSalaryHikePercent              0.031847           -0.011788   \n",
       "EmpWorkLifeBalance                   -0.018548            0.002489   \n",
       "\n",
       "                            EmpLastSalaryHikePercent  \\\n",
       "PerformanceRating                           0.333722   \n",
       "EmpEnvironmentSatisfaction                 -0.047271   \n",
       "EmpLastSalaryHikePercent                    1.000000   \n",
       "EmpWorkLifeBalance                         -0.017001   \n",
       "\n",
       "                            EmpRelationshipSatisfaction  \\\n",
       "PerformanceRating                             -0.019502   \n",
       "EmpEnvironmentSatisfaction                    -0.010504   \n",
       "EmpLastSalaryHikePercent                      -0.042892   \n",
       "EmpWorkLifeBalance                            -0.004906   \n",
       "\n",
       "                            TotalWorkExperienceInYears  TrainingTimesLastYear  \\\n",
       "PerformanceRating                            -0.068141              -0.005443   \n",
       "EmpEnvironmentSatisfaction                   -0.012894               0.001192   \n",
       "EmpLastSalaryHikePercent                     -0.005933              -0.013439   \n",
       "EmpWorkLifeBalance                            0.015495               0.037048   \n",
       "\n",
       "                            EmpWorkLifeBalance  ExperienceYearsAtThisCompany  \\\n",
       "PerformanceRating                     0.124429                     -0.111645   \n",
       "EmpEnvironmentSatisfaction           -0.000262                     -0.000561   \n",
       "EmpLastSalaryHikePercent             -0.017001                     -0.019830   \n",
       "EmpWorkLifeBalance                    1.000000                      0.023479   \n",
       "\n",
       "                            ExperienceYearsInCurrentRole  \\\n",
       "PerformanceRating                              -0.147638   \n",
       "EmpEnvironmentSatisfaction                      0.025491   \n",
       "EmpLastSalaryHikePercent                       -0.004957   \n",
       "EmpWorkLifeBalance                              0.045719   \n",
       "\n",
       "                            YearsSinceLastPromotion  YearsWithCurrManager  \\\n",
       "PerformanceRating                         -0.167629             -0.122313   \n",
       "EmpEnvironmentSatisfaction                 0.010732             -0.011702   \n",
       "EmpLastSalaryHikePercent                  -0.015911             -0.007666   \n",
       "EmpWorkLifeBalance                         0.015773              0.010518   \n",
       "\n",
       "                            PerformanceRating  \n",
       "PerformanceRating                    1.000000  \n",
       "EmpEnvironmentSatisfaction           0.395561  \n",
       "EmpLastSalaryHikePercent             0.333722  \n",
       "EmpWorkLifeBalance                   0.124429  "
      ]
     },
     "execution_count": 8,
     "metadata": {},
     "output_type": "execute_result"
    }
   ],
   "source": [
    "f.sort_values('PerformanceRating',ascending=False,inplace=True)\n",
    "f.head(4)"
   ]
  },
  {
   "cell_type": "code",
   "execution_count": 9,
   "metadata": {
    "scrolled": false
   },
   "outputs": [
    {
     "data": {
      "text/html": [
       "<div>\n",
       "<style scoped>\n",
       "    .dataframe tbody tr th:only-of-type {\n",
       "        vertical-align: middle;\n",
       "    }\n",
       "\n",
       "    .dataframe tbody tr th {\n",
       "        vertical-align: top;\n",
       "    }\n",
       "\n",
       "    .dataframe thead th {\n",
       "        text-align: right;\n",
       "    }\n",
       "</style>\n",
       "<table border=\"1\" class=\"dataframe\">\n",
       "  <thead>\n",
       "    <tr style=\"text-align: right;\">\n",
       "      <th>PerformanceRating</th>\n",
       "      <th>2</th>\n",
       "      <th>3</th>\n",
       "      <th>4</th>\n",
       "    </tr>\n",
       "    <tr>\n",
       "      <th>EmpEnvironmentSatisfaction</th>\n",
       "      <th></th>\n",
       "      <th></th>\n",
       "      <th></th>\n",
       "    </tr>\n",
       "  </thead>\n",
       "  <tbody>\n",
       "    <tr>\n",
       "      <th>1</th>\n",
       "      <td>90</td>\n",
       "      <td>127</td>\n",
       "      <td>13</td>\n",
       "    </tr>\n",
       "    <tr>\n",
       "      <th>2</th>\n",
       "      <td>98</td>\n",
       "      <td>130</td>\n",
       "      <td>14</td>\n",
       "    </tr>\n",
       "    <tr>\n",
       "      <th>3</th>\n",
       "      <td>3</td>\n",
       "      <td>310</td>\n",
       "      <td>54</td>\n",
       "    </tr>\n",
       "    <tr>\n",
       "      <th>4</th>\n",
       "      <td>3</td>\n",
       "      <td>307</td>\n",
       "      <td>51</td>\n",
       "    </tr>\n",
       "  </tbody>\n",
       "</table>\n",
       "</div>"
      ],
      "text/plain": [
       "PerformanceRating            2    3   4\n",
       "EmpEnvironmentSatisfaction             \n",
       "1                           90  127  13\n",
       "2                           98  130  14\n",
       "3                            3  310  54\n",
       "4                            3  307  51"
      ]
     },
     "execution_count": 9,
     "metadata": {},
     "output_type": "execute_result"
    }
   ],
   "source": [
    "EnvSatisfaction=pd.crosstab(df.EmpEnvironmentSatisfaction, df.PerformanceRating)\n",
    "EnvSatisfaction"
   ]
  },
  {
   "cell_type": "code",
   "execution_count": 10,
   "metadata": {
    "scrolled": false
   },
   "outputs": [
    {
     "data": {
      "image/png": "[encoded data removed]",
      "text/plain": [
       "<Figure size 936x648 with 1 Axes>"
      ]
     },
     "metadata": {
      "needs_background": "light"
     },
     "output_type": "display_data"
    }
   ],
   "source": [
    "EnvSatisfaction.plot(kind=\"bar\").set_xticklabels( df['EmpEnvironmentSatisfaction'],rotation =60, fontsize='large')\n",
    "\n",
    "\n",
    "z = [0,1,2,3]\n",
    "ztype = ['Low','Medium','High','Very High']\n",
    "plt.xticks(z,ztype)\n",
    "\n",
    "\n",
    "plt.title(\"Environment Satisfaction_vs_Performance\")\n",
    "plt.savefig(\"Environment Satisfaction_vs_Performance.png\")\n",
    "#plt.show()"
   ]
  },
  {
   "cell_type": "code",
   "execution_count": 11,
   "metadata": {
    "scrolled": true
   },
   "outputs": [
    {
     "data": {
      "image/png": "[encoded data removed]",
      "text/plain": [
       "<Figure size 936x648 with 1 Axes>"
      ]
     },
     "metadata": {
      "needs_background": "light"
     },
     "output_type": "display_data"
    }
   ],
   "source": [
    "EnvSalaryhike=pd.crosstab(df.EmpLastSalaryHikePercent, df.PerformanceRating)\n",
    "EnvSalaryhike.plot(kind=\"bar\").set_xticklabels( df['EmpLastSalaryHikePercent'],rotation =60, fontsize='large')\n",
    "\n",
    "\n",
    "plt.title(\"Last Salary Hike_in_Percent_vs_Performance\")\n",
    "plt.savefig(\"Last Salary Hike_in_Percent_vs_Performance.png\")\n"
   ]
  },
  {
   "cell_type": "code",
   "execution_count": 12,
   "metadata": {
    "scrolled": true
   },
   "outputs": [
    {
     "data": {
      "image/png": "[encoded data removed]",
      "text/plain": [
       "<Figure size 936x648 with 1 Axes>"
      ]
     },
     "metadata": {
      "needs_background": "light"
     },
     "output_type": "display_data"
    }
   ],
   "source": [
    "WorkLifeBal=pd.crosstab(df.EmpWorkLifeBalance, df.PerformanceRating)\n",
    "WorkLifeBal.plot(kind=\"bar\").set_xticklabels( df['EmpWorkLifeBalance'],rotation =60, fontsize='large')\n",
    "z=[0,1,2,3]\n",
    "\n",
    "ztype=['Bad','Good','Better', 'Best']\n",
    "plt.xticks(z,ztype)\n",
    "\n",
    "\n",
    "plt.title(\"WorkLifeBalance_vs_Performance\")\n",
    "plt.savefig(\"WorkLifeBalance_vs_Performance.png\")\n"
   ]
  },
  {
   "cell_type": "code",
   "execution_count": null,
   "metadata": {},
   "outputs": [],
   "source": []
  }
 ],
 "metadata": {
  "kernelspec": {
   "display_name": "Python 3",
   "language": "python",
   "name": "python3"
  },
  "language_info": {
   "codemirror_mode": {
    "name": "ipython",
    "version": 3
   },
   "file_extension": ".py",
   "mimetype": "text/x-python",
   "name": "python",
   "nbconvert_exporter": "python",
   "pygments_lexer": "ipython3",
   "version": "3.6.7"
  }
 },
 "nbformat": 4,
 "nbformat_minor": 2
}
